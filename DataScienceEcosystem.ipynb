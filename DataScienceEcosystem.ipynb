{
 "cells": [
  {
   "cell_type": "markdown",
   "id": "f3d755ea-53a6-4b10-823a-d15a1f8c40b4",
   "metadata": {},
   "source": [
    "#Data Science Tools and Ecosystem\n"
   ]
  },
  {
   "cell_type": "code",
   "execution_count": null,
   "id": "b527906c-6d6f-460c-b6f4-2f2b551da909",
   "metadata": {},
   "outputs": [],
   "source": [
    "In this notebook, Data Science Tools and Ecosystem are summarized.\n",
    "Some of the popular languages that Data Scientists use are:\n",
    "1. Python\n",
    "2. R \n",
    "3. Julia\n",
    "4. Java\n",
    "\n",
    "\n",
    "Some of the commonly used libraries used by Data Scientists:\n",
    "1. Scipy\n",
    "2. Pandas\n",
    "3. Matplotlib\n",
    "4. Numpy"
   ]
  },
  {
   "cell_type": "markdown",
   "id": "1761dec6-f708-4cba-b955-1c1366c73947",
   "metadata": {},
   "source": [
    "| Data Science Tools|\n",
    "---------------------\n",
    "|SensorFlow|\n",
    "|PyTorch|\n",
    "|Seaborn|\n"
   ]
  },
  {
   "cell_type": "markdown",
   "id": "4d04a496-1a0e-461b-bfb2-481dace4eada",
   "metadata": {},
   "source": [
    "### Below are a few examples of evaluating arithmetic expressions in Python:"
   ]
  },
  {
   "cell_type": "code",
   "execution_count": 2,
   "id": "5099d51e-dcae-4d9b-b633-75b6652b9885",
   "metadata": {
    "tags": []
   },
   "outputs": [
    {
     "data": {
      "text/plain": [
       "17"
      ]
     },
     "execution_count": 2,
     "metadata": {},
     "output_type": "execute_result"
    }
   ],
   "source": [
    "#This a simple arithmetic expression to mutiply then add integers.\n",
    "(3*4)+5"
   ]
  },
  {
   "cell_type": "code",
   "execution_count": 3,
   "id": "7bbbd38f-c745-45dc-a3cd-0159779a4e81",
   "metadata": {
    "tags": []
   },
   "outputs": [
    {
     "data": {
      "text/plain": [
       "3.3333333333333335"
      ]
     },
     "execution_count": 3,
     "metadata": {},
     "output_type": "execute_result"
    }
   ],
   "source": [
    "#This will convert 200 minutes to hours by diving by 60.\n",
    "200/60"
   ]
  },
  {
   "cell_type": "markdown",
   "id": "98ca2a39-3227-4dc8-a1c4-5f13dc307b54",
   "metadata": {},
   "source": [
    "**Objectives:**\n",
    "\n",
    "*Numpy , matplotlib,pandas are some of the libraries used in Data Science.\n",
    "\n",
    "*In this notebook  we learned how to evaluate arithmetic expressions in python.\n",
    "\n",
    "*We learned to create a table with single column.\n",
    "\n",
    "*In this notebook we have learned how to give headings, comments in bold or levels in Markdown cells."
   ]
  },
  {
   "cell_type": "markdown",
   "id": "13e26b44-2e82-448e-96dc-026277a6c99a",
   "metadata": {},
   "source": [
    "##Author\n",
    "Saru Yoga Thrisha A"
   ]
  }
 ],
 "metadata": {
  "kernelspec": {
   "display_name": "Python",
   "language": "python",
   "name": "conda-env-python-py"
  },
  "language_info": {
   "codemirror_mode": {
    "name": "ipython",
    "version": 3
   },
   "file_extension": ".py",
   "mimetype": "text/x-python",
   "name": "python",
   "nbconvert_exporter": "python",
   "pygments_lexer": "ipython3",
   "version": "3.7.12"
  }
 },
 "nbformat": 4,
 "nbformat_minor": 5
}
